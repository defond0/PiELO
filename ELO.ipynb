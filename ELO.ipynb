{
 "cells": [
  {
   "cell_type": "markdown",
   "metadata": {},
   "source": [
    "###ELO Calculator and Leaderboard###\n",
    "####Shawn Zhao####"
   ]
  },
  {
   "cell_type": "markdown",
   "metadata": {},
   "source": [
    "####These are core functions ####"
   ]
  },
  {
   "cell_type": "code",
   "execution_count": 1,
   "metadata": {
    "collapsed": true
   },
   "outputs": [],
   "source": [
    "AllSammys = []"
   ]
  },
  {
   "cell_type": "code",
   "execution_count": 2,
   "metadata": {
    "collapsed": true
   },
   "outputs": [],
   "source": [
    "import numpy as np\n",
    "import pickle\n",
    "from numpy import pi, sqrt, linspace"
   ]
  },
  {
   "cell_type": "code",
   "execution_count": 3,
   "metadata": {
    "collapsed": false
   },
   "outputs": [],
   "source": [
    "class Sammy:\n",
    "    \"\"\" The class Sammy will contain the information about each player, containing the following attributes: \n",
    "    \n",
    "    Attributes: \n",
    "        Name: A string representing the Sammy's name. This is the only input, and must be a string.\n",
    "        Password: A password to be entered by each player so no false games can be recorded. Defaults to string \"password\".\n",
    "        ELO: A list containing their ELO scores. Everyone starts at 1500\n",
    "        Sinks: A list containing the number of sinks per game\n",
    "        Score: A list containing the score of each game\n",
    "        Opponent Name: A list of names to ensure no false names are created to inflate or deflate ELOs. \n",
    "        Opponent Rank: A list containing the ELO of the opponent of each game\n",
    "    \"\"\"\n",
    "    def __init__(self, name):\n",
    "        self.name = name\n",
    "        self.password = 'password'\n",
    "        self.ELO = [1500]\n",
    "        self.sinks = []\n",
    "        self.score = []\n",
    "        self.oppname = []\n",
    "        self.opprank = []"
   ]
  },
  {
   "cell_type": "markdown",
   "metadata": {},
   "source": [
    "ELO is calculated as a function of the ratings of both players and the actual score. The new ranking is given by the following equation following each match: \n",
    "\n",
    "$$R'_{A} = R_{A} + K (S_{A} - E_{A}) $$ where $R'_{A}$ is the new ELO ranking, $R_{A}$ is the old ELO ranking, $K$ is the impact factor of the game, $S_{A}$ is the reflective of the actual score of the game, and $E_{A}$ is reflective of the expected score of the game. \n",
    "\n",
    "The factor $K$ allows us to modify how important each game is. In our formula, we will have three graduated levels of K factors representing high, medium, and low impacts corresponding to tournment, ranked, and casual games. As some may know, the non-linear logistic map tends to chaos with the factor $K$, with low values of $K$ giving a converging factor, while higher $K$ values leading to either bifurcartion or chaos. A factor of 100 is defaulted, but for higher stakes games it can be tuned higher. \n",
    "\n",
    "The $E_{A}$ factor is given by the logistic curve $$E_{A} = \\frac{1}{1  + 10 ^{R_{B} - R_{A}}/400}$$ where player A has a rating $R_{A}$ and player B has a rating $R_{B}$. To understand this equation better, let's imagine both players have the same rating: \n",
    "\n",
    "$$ R_{A} = R_{B} \\\\\n",
    "E_{A} = \\frac{1}{1  + 10 ^{0}} = \\frac{1}{2} $$\n",
    "\n",
    "This shows that each player has an expected score of 1/2, giving them an equal chance to win. Similarly, we can see that when $R_{B} > R_{A}$, $E_{A} < \\frac{1}{2}$, while noting that $E_{A} + E_{B} = 1$. \n",
    "\n",
    "Thus, we need a scheme to normalize our BP game scores so that $S_{A} + S_{B} = 1$ as well.\n",
    "\n",
    "One sink is worth three points points, so that if someone scores 21 points and 3 sinks, their total for the game is 30. Normalizing, to the total number of points, scores will be assigned so that $$S_{A} = \\frac{3sinks_{A} + points_{A}}{3sinks_{A} + points_{A} + 3sinks_{B} + points_{B}}$$ \n",
    "\n",
    "so that\n",
    "\n",
    "$$S_{A} + S_{B} = \\frac{3  sinks_{A} + points_{A}}{3  sinks_{A} + points_{A} + 3 sinks_{B} + points_{B}} + \\frac{3  sinks_{B} + points_{B}}{3 sinks_{A} + points_{A} + 3 sinks_{B} + points_{B}} = 1$$\n",
    "\n",
    "This function also saves the game to the player file after each match automatically. "
   ]
  },
  {
   "cell_type": "code",
   "execution_count": 4,
   "metadata": {
    "collapsed": false
   },
   "outputs": [],
   "source": [
    "\"\"\" \n",
    "The function ELO takes instances of class Sammy along with the score of the game and updates the instance's attributes. \n",
    "\"\"\"\n",
    "\n",
    "def ELO(player1, player2, score1, score2, sink1, sink2,k=100):\n",
    "    player1.opprank.append(player2.ELO[-1])\n",
    "    player2.opprank.append(player1.ELO[-1])\n",
    "    player1.oppname.append(player2.name)\n",
    "    player2.oppname.append(player1.name)\n",
    "    total1 = float((score1) + (3 * sink1))\n",
    "    total2 = float((score2) + (3 * sink2))\n",
    "    #ntotal is normalized total\n",
    "    ntotal1 = total1 / (total1 + total2)\n",
    "    ntotal2 = total2 / (total1 + total2)\n",
    "    print(ntotal1)\n",
    "    escore1 = (1 + 10**((player2.ELO[-1] - player1.ELO[-1])/400))**-1\n",
    "    escore2 = (1 + 10**((player1.ELO[-1] - player2.ELO[-1])/400))**-1\n",
    "    print(escore1)\n",
    "    diff1 =  k*(ntotal1-escore1)\n",
    "    diff2 =  k*(ntotal2-escore2)\n",
    "    player1.ELO.append(player1.ELO[-1]+diff1)\n",
    "    player2.ELO.append(player2.ELO[-1]+diff2)\n",
    "    player1.sinks.append(sink1)\n",
    "    player2.sinks.append(sink2)\n",
    "    player1.score.append(score1)\n",
    "    player2.score.append(score2)\n",
    "    \n",
    "    #saves the updated players to PKL file    \n",
    "    output1 = open(player1.name + '.pkl','wb')\n",
    "    pickle.dump(player1, output1)\n",
    "    output2 = open(player2.name + '.pkl','wb')\n",
    "    pickle.dump(player2, output2)"
   ]
  },
  {
   "cell_type": "markdown",
   "metadata": {},
   "source": [
    "Username creation and password management"
   ]
  },
  {
   "cell_type": "code",
   "execution_count": 6,
   "metadata": {
    "collapsed": false,
    "scrolled": false
   },
   "outputs": [
    {
     "name": "stdout",
     "output_type": "stream",
     "text": [
      "Enter the first and last name of the player: Daniel Fang\n"
     ]
    }
   ],
   "source": [
    "\"\"\"\n",
    "This input allows for users to be created. The first and last names should be entered with a space seperating the two.\n",
    "Each time a Sammy is added, the AllSammy master is updated as well.\n",
    "\"\"\"\n",
    "import pickle\n",
    "name = raw_input('Enter the first and last name of the player: ')\n",
    "exec(\"%s = Sammy(name)\" % (name.replace(\" \",\"\")))\n",
    "AllSammys.append(name)\n",
    "output = open('AllSammys' + '.pkl', 'wb')\n",
    "pickle.dump(AllSammys, output)"
   ]
  },
  {
   "cell_type": "code",
   "execution_count": 10,
   "metadata": {
    "collapsed": false
   },
   "outputs": [],
   "source": [
    "\"\"\"\n",
    "Allows player to change their password from default 'password' and then updates player file. Must be entered as a string.\n",
    "\"\"\"\n",
    "\n",
    "def passchange(player, password):\n",
    "    player.password = password\n",
    "    output = open(player.name + '.pkl','wb')\n",
    "    pickle.dump(player, output)"
   ]
  },
  {
   "cell_type": "markdown",
   "metadata": {},
   "source": [
    "#### Loads Instances Again ####"
   ]
  },
  {
   "cell_type": "code",
   "execution_count": 10,
   "metadata": {
    "collapsed": false
   },
   "outputs": [],
   "source": [
    "\"\"\"\n",
    "Loads list of AllSammys\n",
    "\"\"\"\n",
    "import pickle\n",
    "pkl_file = open('AllSammys.pkl', 'rb')\n",
    "AllSammys = pickle.load(pkl_file)"
   ]
  },
  {
   "cell_type": "code",
   "execution_count": 11,
   "metadata": {
    "collapsed": false,
    "scrolled": true
   },
   "outputs": [],
   "source": [
    "\"\"\"\n",
    "Loads all instances of AllSammys\n",
    "\"\"\"\n",
    "import pickle\n",
    "for i in linspace(0,len(AllSammys)-1,len(AllSammys)):\n",
    "    pkl_file = open(AllSammys[int(i)] + '.pkl','rb')\n",
    "    exec(\"%s = pickle.load(pkl_file)\" % (AllSammys[int(i)].replace(\" \",\"\")))"
   ]
  },
  {
   "cell_type": "markdown",
   "metadata": {},
   "source": [
    "#### Plot of ELO over time####"
   ]
  },
  {
   "cell_type": "code",
   "execution_count": 7,
   "metadata": {
    "collapsed": false
   },
   "outputs": [],
   "source": [
    "import matplotlib.pyplot as plt\n",
    "%matplotlib inline  "
   ]
  },
  {
   "cell_type": "code",
   "execution_count": 8,
   "metadata": {
    "collapsed": false
   },
   "outputs": [],
   "source": [
    "\"\"\"\n",
    "Given a specific player, this will plot ELO over the number of games played\n",
    "\"\"\"\n",
    "def plotplayer(Player):\n",
    "    x = linspace(0, len(Player.ELO) -1, len(Player.ELO))\n",
    "    y = Player.ELO\n",
    "    \n",
    "    plt.plot(x,y)\n",
    "    \n",
    "    plt.xlabel('Games Played')\n",
    "    plt.ylabel('ELO')\n",
    "    plt.title(Player.name + '\\'s ELO')\n",
    "    plt.grid(True)\n",
    "    plt.show()"
   ]
  },
  {
   "cell_type": "code",
   "execution_count": 23,
   "metadata": {
    "collapsed": false,
    "scrolled": true
   },
   "outputs": [
    {
     "name": "stdout",
     "output_type": "stream",
     "text": [
      "0.451612903226\n",
      "0.452046109039\n"
     ]
    }
   ],
   "source": [
    "ELO(ShawnZhao,DanielFang,19,22,3,4)"
   ]
  },
  {
   "cell_type": "code",
   "execution_count": 24,
   "metadata": {
    "collapsed": false,
    "scrolled": true
   },
   "outputs": [
    {
     "data": {
      "image/png": "[encoded data removed]",
      "text/plain": [
       "<matplotlib.figure.Figure at 0xa34e860>"
      ]
     },
     "metadata": {},
     "output_type": "display_data"
    }
   ],
   "source": [
    "plotplayer(ShawnZhao)"
   ]
  },
  {
   "cell_type": "code",
   "execution_count": null,
   "metadata": {
    "collapsed": true
   },
   "outputs": [],
   "source": []
  }
 ],
 "metadata": {
  "kernelspec": {
   "display_name": "Python 2",
   "language": "python",
   "name": "python2"
  },
  "language_info": {
   "codemirror_mode": {
    "name": "ipython",
    "version": 2
   },
   "file_extension": ".py",
   "mimetype": "text/x-python",
   "name": "python",
   "nbconvert_exporter": "python",
   "pygments_lexer": "ipython2",
   "version": "2.7.10"
  }
 },
 "nbformat": 4,
 "nbformat_minor": 0
}
